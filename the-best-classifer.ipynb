{
    "cells": [
        {
            "cell_type": "code",
            "execution_count": 2,
            "metadata": {},
            "outputs": [],
            "source": "# Now that you have been equipped with the skills to use different Machine Learning algorithms, \n# over the course of five weeks, you will have the opportunity to practice and apply it on a dataset. \n# In this project, you will complete a notebook where you will build a classifier to predict whether a loan case will be paid off or not.\n\n# You load a historical dataset from previous loan applications, clean the data, and apply different classification algorithm on the data. \n# You are expected to use the following algorithms to build your models:\n\n# 1.k-Nearest Neighbour\n# 2.Decision Tree\n# 3.Support Vector Machine\n# 4.Logistic Regression\n# The results is reported as the accuracy of each classifier, using the following metrics when these are applicable:\n\n# 1.Jaccard index\n# 2.F1-score\n# 3.LogLoass"
        },
        {
            "cell_type": "code",
            "execution_count": 3,
            "metadata": {},
            "outputs": [
                {
                    "data": {
                        "text/plain": "4"
                    },
                    "execution_count": 3,
                    "metadata": {},
                    "output_type": "execute_result"
                }
            ],
            "source": "1+3"
        },
        {
            "cell_type": "code",
            "execution_count": null,
            "metadata": {},
            "outputs": [],
            "source": ""
        }
    ],
    "metadata": {
        "kernelspec": {
            "display_name": "Python 3.7",
            "language": "python",
            "name": "python3"
        },
        "language_info": {
            "codemirror_mode": {
                "name": "ipython",
                "version": 3
            },
            "file_extension": ".py",
            "mimetype": "text/x-python",
            "name": "python",
            "nbconvert_exporter": "python",
            "pygments_lexer": "ipython3",
            "version": "3.7.9"
        }
    },
    "nbformat": 4,
    "nbformat_minor": 1
}